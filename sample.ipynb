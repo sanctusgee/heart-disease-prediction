{
 "cells": [
  {
   "metadata": {},
   "cell_type": "markdown",
   "source": [
    "## Problem Description:\n",
    "\n",
    "**Objective**: Predict whether a patient has heart disease based on diagnostic measurements.\n",
    "\n",
    "**Dataset**: Heart Disease UCI dataset from the UCI Machine Learning Repository.\n",
    "\n",
    "Dataset source: https://archive.ics.uci.edu/ml/datasets/Heart+Disease\n",
    "\n",
    "Fields in the dataset:\n",
    "- age: Age in years.\n",
    "- sex: Sex (1 = male; 0 = female).\n",
    "- cp: Chest pain type (0-3).\n",
    "- trestbps: Resting blood pressure (in mm Hg on admission to the hospital).\n",
    "- chol: Serum cholesterol in mg/dl.\n",
    "- fbs: Fasting blood sugar > 120 mg/dl (1 = true; 0 = false).\n",
    "- restecg: Resting electrocardiographic results (0-2).\n",
    "- thalach: Maximum heart rate achieved.\n",
    "- exang: Exercise-induced angina (1 = yes; 0 = no).\n",
    "- oldpeak: ST depression induced by exercise relative to rest.\n",
    "- slope: The slope of the peak exercise ST segment (0-2).\n",
    "- ca: Number of major vessels (0-3) colored by fluoroscopy.\n",
    "thal: Thalassemia (1 = normal; 2 = fixed defect; 3 = reversible defect).\n",
    "- target: Diagnosis of heart disease (1 = presence; 0 = absence).\n"
   ],
   "id": "8a77807f92f26ee"
  },
  {
   "metadata": {},
   "cell_type": "code",
   "outputs": [],
   "execution_count": null,
   "source": "print(\"Hello World!\")\n",
   "id": "fbc121e30a2defb3"
  },
  {
   "metadata": {},
   "cell_type": "markdown",
   "source": "",
   "id": "9183f3a3201c51fe"
  },
  {
   "metadata": {},
   "cell_type": "code",
   "outputs": [],
   "execution_count": null,
   "source": "",
   "id": "588a2b65b81d4743"
  },
  {
   "metadata": {},
   "cell_type": "code",
   "outputs": [],
   "execution_count": null,
   "source": "",
   "id": "4abc73b6db3cab0b"
  }
 ],
 "metadata": {
  "kernelspec": {
   "display_name": "Python 3",
   "language": "python",
   "name": "python3"
  },
  "language_info": {
   "codemirror_mode": {
    "name": "ipython",
    "version": 2
   },
   "file_extension": ".py",
   "mimetype": "text/x-python",
   "name": "python",
   "nbconvert_exporter": "python",
   "pygments_lexer": "ipython2",
   "version": "2.7.6"
  }
 },
 "nbformat": 4,
 "nbformat_minor": 5
}
