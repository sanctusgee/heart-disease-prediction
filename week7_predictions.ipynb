{
 "cells": [
  {
   "metadata": {},
   "cell_type": "markdown",
   "source": [
    "# Predicting Heart Disease\n",
    "In this example, we will build and evaluate machine learning models to predict heart disease based on diagnostic measurements. We will use the Heart Disease UCI dataset from the UCI Machine Learning Repository."
   ],
   "id": "71eb92e8e1834a6b"
  },
  {
   "metadata": {},
   "cell_type": "markdown",
   "source": [
    "\n",
    "#### Objective:\n",
    "Predict whether a patient has heart disease based on diagnostic measurements.\n",
    "##### Dataset:\n",
    "Heart Disease UCI dataset from the UCI Machine Learning Repository."
   ],
   "id": "d7faebc33cd6cf4c"
  },
  {
   "metadata": {},
   "cell_type": "markdown",
   "source": [
    "**Data Description**\n",
    "The dataset contains various diagnostic measurements for patients, as well as a target variable indicating the presence or absence of heart disease.\n",
    "\n",
    "#### Features: ####\n",
    "\n",
    "    1. age: age in years\n",
    "    2. sex: Sex (1 = male; 0 = female).\n",
    "    3. cp: Chest pain type (0-3).\n",
    "    4. trestbps: Resting blood pressure (in mm Hg on admission to the hospital).\n",
    "    5. chol: Serum cholesterol in mg/dl.\n",
    "    6. fbs: Fasting blood sugar > 120 mg/dl (1 = true; 0 = false).\n",
    "    7. restecg: Resting electrocardiographic results (0-2).\n",
    "    8. thalach: Maximum heart rate achieved.\n",
    "    9. exang: Exercise-induced angina (1 = yes; 0 = no).\n",
    "    10. oldpeak: ST depression induced by exercise relative to rest.\n",
    "    11. slope: The slope of the peak exercise ST segment (0-2).\n",
    "    12. ca: Number of major vessels (0-3) colored by fluoroscopy.\n",
    "    13. thal: Thalassemia (1 = normal; 2 = fixed defect; 3 = reversible defect).\n",
    "    14. target: Diagnosis of heart disease (1 = presence; 0 = absence)."
   ],
   "id": "2dd7eceb3fc26596"
  },
  {
   "metadata": {},
   "cell_type": "code",
   "outputs": [],
   "execution_count": null,
   "source": [
    "# Import necessary libraries\n",
    "import numpy as np\n",
    "import pandas as pd\n",
    "import matplotlib.pyplot as plt\n",
    "import seaborn as sns\n",
    "from sklearn.model_selection import train_test_split, GridSearchCV\n",
    "from sklearn.linear_model import LogisticRegression\n",
    "from sklearn.tree import DecisionTreeClassifier\n",
    "from sklearn.ensemble import RandomForestClassifier, GradientBoostingClassifier\n",
    "from sklearn.metrics import accuracy_score, precision_score, recall_score, f1_score\n",
    "\n",
    "# Import necessary libraries\n",
    "\n",
    "# Load the dataset\n",
    "data = pd.read_csv('processed.cleveland.data', header=None)\n",
    "\n",
    "# Display the first few rows of the dataset\n",
    "print(data.head())\n",
    "\n",
    "# Assuming the location column is the last column (adjust the index if necessary)\n",
    "# Filter the dataset to include only Cleveland data\n",
    "# Note: If the dataset does not have a location column, this step can be skipped\n",
    "# cleveland_data = data[data.iloc[:, -1] == 'cleveland']\n",
    "\n",
    "# For this example, we assume the dataset is already filtered to include only Cleveland data\n",
    "cleveland_data = data\n",
    "\n",
    "# Display the first few rows of the filtered dataset\n",
    "print(cleveland_data.head())\n",
    "\n",
    "# Define column names for the dataset\n",
    "column_names = ['age', 'sex', 'cp', 'trestbps', 'chol', 'fbs', 'restecg', 'thalach', 'exang', 'oldpeak', 'slope', 'ca', 'thal', 'target']\n",
    "cleveland_data.columns = column_names"
   ],
   "id": "76d84086f76ea6c2"
  },
  {
   "metadata": {},
   "cell_type": "raw",
   "source": "Exploratory Data Analysis",
   "id": "210e3a76ac04bf10"
  },
  {
   "metadata": {},
   "cell_type": "code",
   "outputs": [],
   "execution_count": null,
   "source": [
    "# import matplotlib.pyplot as plt\n",
    "# import seaborn as sns\n",
    "\n",
    "# Check for missing values\n",
    "print(cleveland_data.isnull().sum())\n",
    "\n",
    "# Summary statistics\n",
    "print(cleveland_data.describe())\n",
    "\n",
    "# Correlation matrix\n",
    "plt.figure(figsize=(12, 8))\n",
    "sns.heatmap(cleveland_data.corr(), annot=True, cmap='coolwarm')\n",
    "plt.show()\n",
    "\n",
    "# Pairplot\n",
    "sns.pairplot(cleveland_data)\n",
    "plt.show()"
   ],
   "id": "588a2b65b81d4743"
  },
  {
   "metadata": {},
   "cell_type": "markdown",
   "source": "Model Building and Training",
   "id": "69a469eed42297a4"
  },
  {
   "metadata": {},
   "cell_type": "code",
   "outputs": [],
   "execution_count": null,
   "source": [
    "from sklearn.model_selection import train_test_split\n",
    "from sklearn.linear_model import LogisticRegression\n",
    "from sklearn.tree import DecisionTreeClassifier\n",
    "from sklearn.ensemble import RandomForestClassifier, GradientBoostingClassifier\n",
    "\n",
    "# Split the data into training and testing sets\n",
    "X = cleveland_data.drop('target', axis=1)\n",
    "y = cleveland_data['target']\n",
    "X_train, X_test, y_train, y_test = train_test_split(X, y, test_size=0.2, random_state=42)\n",
    "\n",
    "# Train a Logistic Regression model\n",
    "lr = LogisticRegression()\n",
    "lr.fit(X_train, y_train)\n",
    "y_pred_lr = lr.predict(X_test)\n",
    "\n",
    "# Train a Decision Tree model\n",
    "dt = DecisionTreeClassifier()\n",
    "dt.fit(X_train, y_train)\n",
    "y_pred_dt = dt.predict(X_test)\n",
    "\n",
    "# Train a Random Forest model\n",
    "rf = RandomForestClassifier()\n",
    "rf.fit(X_train, y_train)\n",
    "y_pred_rf = rf.predict(X_test)\n",
    "\n",
    "# Train a Gradient Boosting model\n",
    "gb = GradientBoostingClassifier()\n",
    "gb.fit(X_train, y_train)\n",
    "y_pred_gb = gb.predict(X_test)"
   ],
   "id": "2778072d0b2948cb"
  },
  {
   "metadata": {},
   "cell_type": "markdown",
   "source": "Results and Evaulations",
   "id": "63293a814be0d707"
  },
  {
   "metadata": {},
   "cell_type": "code",
   "outputs": [],
   "execution_count": null,
   "source": [
    "from sklearn.metrics import accuracy_score, precision_score, recall_score, f1_score\n",
    "\n",
    "# Evaluate the models\n",
    "models = {'Logistic Regression': lr, 'Decision Tree': dt, 'Random Forest': rf, 'Gradient Boosting': gb}\n",
    "for name, model in models.items():\n",
    "    y_pred = model.predict(X_test)\n",
    "    accuracy = accuracy_score(y_test, y_pred)\n",
    "    precision = precision_score(y_test, y_pred)\n",
    "    recall = recall_score(y_test, y_pred)\n",
    "    f1 = f1_score(y_test, y_pred)\n",
    "    print(f'{name} - Accuracy: {accuracy:.2f}, Precision: {precision:.2f}, Recall: {recall:.2f}, F1-Score: {f1:.2f}')"
   ],
   "id": "cd9a8c4d5041a785"
  }
 ],
 "metadata": {
  "kernelspec": {
   "display_name": "Python 3",
   "language": "python",
   "name": "python3"
  },
  "language_info": {
   "codemirror_mode": {
    "name": "ipython",
    "version": 2
   },
   "file_extension": ".py",
   "mimetype": "text/x-python",
   "name": "python",
   "nbconvert_exporter": "python",
   "pygments_lexer": "ipython2",
   "version": "2.7.6"
  }
 },
 "nbformat": 4,
 "nbformat_minor": 5
}
